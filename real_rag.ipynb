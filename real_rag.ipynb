{
  "nbformat": 4,
  "nbformat_minor": 0,
  "metadata": {
    "colab": {
      "provenance": [],
      "authorship_tag": "ABX9TyM5VlxzMURZ7dOBAUXjhqus",
      "include_colab_link": true
    },
    "kernelspec": {
      "name": "python3",
      "display_name": "Python 3"
    },
    "language_info": {
      "name": "python"
    }
  },
  "cells": [
    {
      "cell_type": "markdown",
      "metadata": {
        "id": "view-in-github",
        "colab_type": "text"
      },
      "source": [
        "<a href=\"https://colab.research.google.com/github/Soharwardi/PIAIC-Agentic-AI/blob/main/real_rag.ipynb\" target=\"_parent\"><img src=\"https://colab.research.google.com/assets/colab-badge.svg\" alt=\"Open In Colab\"/></a>"
      ]
    },
    {
      "cell_type": "code",
      "source": [
        "!pip install langchain pinecone-client sentence-transformers openai"
      ],
      "metadata": {
        "id": "4iivR-erlp_M"
      },
      "execution_count": null,
      "outputs": []
    },
    {
      "cell_type": "code",
      "source": [
        "import os\n",
        "import pinecone\n",
        "from langchain.vectorstores import Pinecone as LangchainPinecone\n",
        "from langchain.embeddings import OpenAIEmbeddings\n",
        "from langchain.chains import RetrievalQA\n",
        "from langchain.text_splitter import CharacterTextSplitter\n",
        "from langchain.schema import Document\n"
      ],
      "metadata": {
        "id": "5ooIUrGWj3zw"
      },
      "execution_count": null,
      "outputs": []
    },
    {
      "cell_type": "code",
      "source": [
        "# Initialize Pinecone\n",
        "pinecone.init(api_key=\"YOUR_PINECONE_API_KEY\", environment = \"us-west1-gcp\")\n"
      ],
      "metadata": {
        "id": "MVZR5-Iaj33Q"
      },
      "execution_count": null,
      "outputs": []
    },
    {
      "cell_type": "code",
      "source": [
        "index_name = 'langchain-index'\n",
        "\n",
        "# Check if the index already exists\n",
        "if index_name not in pinecone.list_indexes():\n",
        "    pinecone.create_index(\n",
        "        name=index_name,\n",
        "        dimension=1536,  # Adjust dimension as needed\n",
        "        metric='cosine'\n",
        "    )\n",
        "\n",
        "# Connect to the index\n",
        "index = pinecone.Index(index_name)\n"
      ],
      "metadata": {
        "id": "lae73JiKj36t"
      },
      "execution_count": null,
      "outputs": []
    },
    {
      "cell_type": "code",
      "source": [
        "# Load a Single Document\n",
        "def load_document(file_path):\n",
        "    docs = []\n",
        "    if os.path.isfile(file_path):\n",
        "        with open(file_path, 'r') as file:\n",
        "            text = file.read()\n",
        "            docs.append(Document(text=text))\n",
        "    return docs\n",
        "\n",
        "documents = load_document(\"/content/1.txt\")\n",
        "\n",
        "\n",
        "\n"
      ],
      "metadata": {
        "id": "E9CU9u9Mj39x"
      },
      "execution_count": null,
      "outputs": []
    },
    {
      "cell_type": "code",
      "source": [
        "# Split Documents into Chunks\n",
        "splitter = CharacterTextSplitter(chunk_size=1000, chunk_overlap=0)\n",
        "docs = splitter.split_documents(documents)\n"
      ],
      "metadata": {
        "id": "DZTm0Wq1j4BG"
      },
      "execution_count": null,
      "outputs": []
    },
    {
      "cell_type": "code",
      "source": [
        "# Generate Embeddings\n",
        "openai.api_key = \"YOUR_OPENAI_API_KEY\"\n",
        "embeddings = OpenAIEmbeddings()\n",
        "embeddings_docs = [embeddings.embed(doc.page_content) for doc in docs]"
      ],
      "metadata": {
        "id": "GG_65mh6j4EZ"
      },
      "execution_count": null,
      "outputs": []
    },
    {
      "cell_type": "code",
      "source": [
        "# Store Embeddings in Pinecone\n",
        "pinecone_vectorstore = LangchainPinecone(index=index, embeddings=embeddings_docs)\n",
        "pinecone_vectorstore.add_documents(docs)\n"
      ],
      "metadata": {
        "id": "TVWFtpvHj4Hh"
      },
      "execution_count": null,
      "outputs": []
    },
    {
      "cell_type": "code",
      "source": [
        "# Set Up RetrievalQA Chain\n",
        "qa = RetrievalQA(vectorstore=pinecone_vectorstore, retriever='semantic')"
      ],
      "metadata": {
        "id": "PZR6vxjeX-ZR"
      },
      "execution_count": null,
      "outputs": []
    },
    {
      "cell_type": "code",
      "source": [
        "# Ask Questions\n",
        "question = \" what is janat\"\n",
        "answer = qa.ask(question)\n",
        "print(answer)\n"
      ],
      "metadata": {
        "id": "doVK-8jEV9TD"
      },
      "execution_count": null,
      "outputs": []
    }
  ]
}